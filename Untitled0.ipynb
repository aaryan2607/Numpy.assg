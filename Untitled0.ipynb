{
  "nbformat": 4,
  "nbformat_minor": 0,
  "metadata": {
    "colab": {
      "provenance": []
    },
    "kernelspec": {
      "name": "python3",
      "display_name": "Python 3"
    },
    "language_info": {
      "name": "python"
    }
  },
  "cells": [
    {
      "cell_type": "markdown",
      "source": [
        "### Theoratical Question"
      ],
      "metadata": {
        "id": "fAmDlNv5b6fV"
      }
    },
    {
      "cell_type": "markdown",
      "source": [
        "Q1. Explain the purpose and advantages of NumPy in scientific computing and data analysis. How does it\n",
        "enhance Python's capabilities for numerical operations?\n",
        "\n",
        "Ans Numpy stands for numerical python.It was developsed in 2005  by Traphid oliphant.NumPy is a fundamental library in Python for scientific computing.It is a open source Python Library. We use numpy because numpy computation is fast.\n",
        "Mathematical computation is fast because it store homogeneous data it has continuous memory location.\n",
        "\n",
        "Adavntages Of Numpy:-Numpy is best choice for handling Large amount of homogeneous data.Numpy excels at efficient data storage.Numpy has fast array Processing. Numpy supports slicing like the lists.If you are Plotting graphs,analyzing data Numpy is ideal because it ensures seamless data compatibility.\n",
        "We cam use numpy in Mathematical functions ,Linear algebra,Brodcasting and more."
      ],
      "metadata": {
        "id": "fsNpRiwgcB9L"
      }
    },
    {
      "cell_type": "markdown",
      "source": [
        "Q2. Compare and contrast np.mean() and np.average() functions in NumPy. When would you use one over the\n",
        "other?\n",
        "\n",
        "\n",
        "\n",
        "Ansnp.mean():-\n",
        "            Purpose: Computes the simple arithmetic mean (average) of the elements in an array.\n",
        "            Usage: Use when you want a straightforward average of values.\n",
        "\n",
        "np.average():-\n",
        "           Purpose: Computes the weighted average, where each element can have a different weight.\n",
        "           Usage: Use when you need to account for different weights for elements"
      ],
      "metadata": {
        "id": "2AJVSmaRoyYV"
      }
    },
    {
      "cell_type": "code",
      "source": [
        "# Q3 Describe the methods for reversing a NumPy array along different axes. Provide examples for 1D and 2D arrays.\n",
        "# 1. Reversing a 1D Array:- Method: Use slicing with [::-1] to reverse the array.\n",
        "\n",
        "# Example of 1D Array reverse:-\n",
        "import numpy as np\n",
        "arr_1d = np.array([1, 2, 3, 4, 5])\n",
        "reversed_arr_1d = arr_1d[::-1]\n",
        "print(reversed_arr_1d)\n",
        "\n",
        "\n",
        "# 2. Reversing a 2D Array:- You can reverse along different axes:\n",
        "\n",
        "   # a.Reversing along rows (axis 0):-Method: Use slicing [::-1, :].\n",
        "# Example of  Reversing along rows (axis 0):-\n",
        "\n",
        "arr_2d = np.array([[1, 2, 3], [4, 5, 6], [7, 8, 9]])\n",
        "reversed_rows = arr_2d[::-1, :]\n",
        "print(reversed_rows)\n",
        "\n",
        "\n",
        "  # b.Reversing along columns (axis 1):-Method: Use slicing [:, ::-1].\n",
        "# Example of Reversing along columns (axis 1):-\n",
        "reversed_columns = arr_2d[:, ::-1]\n",
        "print(reversed_columns)\n",
        "\n",
        "\n",
        "    # C.Reversing both axes:-Method: Use slicing [::-1, ::-1].\n",
        "# Example of Reversing both axes:-\n",
        "reversed_both = arr_2d[::-1, ::-1]\n",
        "print(reversed_both)"
      ],
      "metadata": {
        "colab": {
          "base_uri": "https://localhost:8080/"
        },
        "id": "GNksgQnexB9h",
        "outputId": "43498754-ee0b-4bf9-982b-76a91ab16401"
      },
      "execution_count": 2,
      "outputs": [
        {
          "output_type": "stream",
          "name": "stdout",
          "text": [
            "[5 4 3 2 1]\n",
            "[[7 8 9]\n",
            " [4 5 6]\n",
            " [1 2 3]]\n",
            "[[3 2 1]\n",
            " [6 5 4]\n",
            " [9 8 7]]\n",
            "[[9 8 7]\n",
            " [6 5 4]\n",
            " [3 2 1]]\n"
          ]
        }
      ]
    },
    {
      "cell_type": "code",
      "source": [
        "# Q4. How can you determine the data type of elements in a NumPy array? Discuss the importance of data types in memory management and performance.\n",
        "\n",
        "#AnsIn NumPy, every array has an associated data type (often referred to as dtype). This dtype specifies the kind of elements the array can store and also determines the amount of\n",
        "#memory required for each element. You can access the data type of an array using the dtype attribute.\n",
        "#Importance of Data Types\n",
        "#Memory Efficiency\n",
        "#Performance optimization\n",
        "#Data Integration and Error\n",
        "#Resource usage\n"
      ],
      "metadata": {
        "id": "qktzrBozxZnV"
      },
      "execution_count": 3,
      "outputs": []
    },
    {
      "cell_type": "markdown",
      "source": [
        "Q5. Define ndarrays in NumPy and explain their key features. How do they differ from standard Python lists?\n",
        "\n",
        "AnsIt is a powerful, multidimensional container for homogeneous data, meaning all elements have the same data type.\n",
        "\n",
        " Key Features of ndarrays:\n",
        "1.Multidimensionality: ndarrays can have multiple dimensions, such as 1D (vectors), 2D (matrices), or higher dimensions.\n",
        "\n",
        "2.Homogeneous Data: All elements in an ndarray must be of the same data type (e.g., all integers, all floats).\n",
        "\n",
        "3.Efficient Memory Use: ndarrays are stored in contiguous memory locations, which allows for fast access and efficient storage compared to standard Python lists.\n",
        "\n",
        "4.Broadcasting: NumPy supports broadcasting, which allows operations on arrays of different shapes without needing explicit looping.\n",
        "\n",
        "5.Vectorized Operations: Operations on ndarrays are applied element-wise without the need for explicit loops, leading to faster and more concise code.\n",
        "\n",
        "    \n",
        "\n",
        "Differences from Standard Python Lists:\n",
        "\n",
        "1.Data Type Consistency:\n",
        "\n",
        " ndarray: All elements must have the same data type.\n",
        "\n",
        " Python List: Elements can have mixed data types.\n",
        "\n",
        "2.Performance:\n",
        "\n",
        "ndarray: Faster for numerical computations due to contiguous memory storage and support for vectorized operations.\n",
        "                   \n",
        "\n",
        " Python List: Slower for large-scale numerical operations because it lacks these optimizations.\n",
        "\n",
        "3.Memory Efficiency:\n",
        "\n",
        "ndarray: More memory-efficient due to fixed-size elements and contiguous memory layout.\n",
        "\n",
        "Python List: Less memory-efficient, with each element being a full-fledged Python object, leading to overhead.\n",
        "\n",
        "4.Multidimensional Support:\n",
        "\n",
        "ndarray: Naturally supports multiple dimensions, such as 2D, 3D, etc.\n",
        "                   \n",
        "\n",
        " Python List: Can mimic multidimensionality with nested lists, but it is less efficient and harder to work with."
      ],
      "metadata": {
        "id": "1Fwg7nQJyr7k"
      }
    },
    {
      "cell_type": "markdown",
      "source": [
        "6. Analyze the performance benefits of NumPy arrays over Python lists for large-scale numerical operations.\n",
        "\n",
        "Ans NumPy arrays offer significant performance benefits over Python lists for large-scale numerical operations due to:\n",
        "\n",
        "1.Faster Computations:\n",
        " NumPy arrays are optimized for numerical operations with C-based implementation, making them much faster than Python lists, especially for large datasets.\n",
        "\n",
        "2.Memory Efficiency:\n",
        "NumPy arrays use contiguous memory and fixed-size elements, reducing memory usage compared to Python lists, which have overhead due to each element being a full Python object.\n",
        "\n",
        "3.Vectorized Operations:\n",
        "NumPy supports vectorized operations, allowing you to perform element-wise calculations without explicit loops, which speeds up processing.\n"
      ],
      "metadata": {
        "id": "5EMrH3fizr4j"
      }
    },
    {
      "cell_type": "code",
      "source": [
        "#Q7. Compare vstack() and hstack() functions in NumPy. Provide examples demonstrating their usage and output.\n",
        "#Ans vstack() and hstack() are used to stack arrays along different axes:\n",
        "\n",
        "# 1. vstack() (Vertical Stack):- Purpose: Stacks arrays vertically (row-wise), one on top of the other.\n",
        "\n",
        "# Example of vstack:-\n",
        "\n",
        "import numpy as np\n",
        "arr1 = np.array([1, 2, 3])\n",
        "arr2 = np.array([4, 5, 6])\n",
        "result = np.vstack((arr1, arr2))\n",
        "print(result)\n",
        "\n",
        "# 2.hstack() (Horizontal Stack):-Purpose: Stacks arrays horizontally (column-wise), side by side.\n",
        "\n",
        "# Example of hstack:-\n",
        "import numpy as np\n",
        "arr1 = np.array([1, 2, 3])\n",
        "arr2 = np.array([4, 5, 6])\n",
        "result = np.hstack((arr1, arr2))\n",
        "print(result)\n",
        "\n"
      ],
      "metadata": {
        "colab": {
          "base_uri": "https://localhost:8080/"
        },
        "id": "cz0XOp2T0WID",
        "outputId": "07fbec6f-24c9-458e-aef7-1ab0dbc39bc8"
      },
      "execution_count": 4,
      "outputs": [
        {
          "output_type": "stream",
          "name": "stdout",
          "text": [
            "[[1 2 3]\n",
            " [4 5 6]]\n",
            "[1 2 3 4 5 6]\n"
          ]
        }
      ]
    },
    {
      "cell_type": "code",
      "source": [
        "#Q8. Explain the differences between fliplr() and flipud() methods in NumPy, including their effects on various array dimensions.\n",
        "#Ans fliplr() and flipud() are used to reverse the order of elements in arrays along different dimensions:\n",
        "\n",
        "# fliplr() (Flip Left-Right):-\n",
        "                    # Purpose: Reverses the order of elements along the horizontal axis (left to right).\n",
        "                    # Effect: Applies to 2D arrays, flipping columns from left to right.\n",
        "# Example:-\n",
        "import numpy as np\n",
        "arr = np.array([[1, 2, 3], [4, 5, 6]])\n",
        "result = np.fliplr(arr)\n",
        "print(result)\n",
        "\n",
        "\n",
        "\n",
        "# flipud() (Flip Up-Down):-\n",
        "                  # Purpose: Reverses the order of elements along the vertical axis (top to bottom).\n",
        "                  # Effect: Applies to 2D arrays, flipping rows from top to bottom\n",
        "\n",
        "# Example:-\n",
        "import numpy as np\n",
        "arr = np.array([[1, 2, 3], [4, 5, 6]])\n",
        "result = np.flipud(arr)\n",
        "print(result)"
      ],
      "metadata": {
        "colab": {
          "base_uri": "https://localhost:8080/"
        },
        "id": "5XPSUTyB0kaM",
        "outputId": "52bacedc-f474-4b23-f03b-b57cb897e655"
      },
      "execution_count": 5,
      "outputs": [
        {
          "output_type": "stream",
          "name": "stdout",
          "text": [
            "[[3 2 1]\n",
            " [6 5 4]]\n",
            "[[4 5 6]\n",
            " [1 2 3]]\n"
          ]
        }
      ]
    },
    {
      "cell_type": "code",
      "source": [
        "#9. Discuss the functionality of the array_split() method in NumPy. How does it handle uneven splits?\n",
        "#Ansthe array_split() method in NumPy is used to split an array into multiple sub-arrays. It provides flexibility in how the array is divided, including handling cases where the\n",
        "#array cannot be evenly split.\n",
        "\n",
        "\n",
        "# Functionality:\n",
        "           # Purpose: To split an array into a specified number of sub-arrays or based on specific indices.\n",
        "           # Usage: np.array_split(array, indices_or_sections)\n",
        "# Handling Uneven Splits:\n",
        "                # Even Splits: If the total number of elements can be evenly divided by the number of sections, each sub-array will have the same size.\n",
        "                # Uneven Splits: When the total number of elements does not divide evenly, the resulting sub-arrays will have sizes as equal as possible. Some sub-arrays may have\n",
        "                #one more element than others.\n",
        "\n",
        "\n",
        "# Splitting into Equal Sections:-\n",
        "\n",
        "import numpy as np\n",
        "arr = np.array([1, 2, 3, 4, 5, 6, 7, 8, 9])\n",
        "result = np.array_split(arr, 4)\n",
        "print(result)\n",
        "\n",
        "\n",
        "# Splitting by Indices::-\n",
        "indices = [2, 5, 7]\n",
        "result = np.array_split(arr, indices)\n",
        "print(result)"
      ],
      "metadata": {
        "colab": {
          "base_uri": "https://localhost:8080/"
        },
        "id": "nfHxbYva05s9",
        "outputId": "a4e7e8eb-6598-4431-b8ba-cee640b71aca"
      },
      "execution_count": 6,
      "outputs": [
        {
          "output_type": "stream",
          "name": "stdout",
          "text": [
            "[array([1, 2, 3]), array([4, 5]), array([6, 7]), array([8, 9])]\n",
            "[array([1, 2]), array([3, 4, 5]), array([6, 7]), array([8, 9])]\n"
          ]
        }
      ]
    },
    {
      "cell_type": "code",
      "source": [
        "#Q10. Explain the concepts of vectorization and broadcasting in NumPy. How do they contribute to efficient array operations?\n",
        "#Ans# Vectorization:\n",
        "      # Concept: Vectorization refers to applying operations on entire arrays at once, rather than using explicit loops. This leverages low-level optimizations for faster computation.\n",
        "# Example: Instead of looping through each element to add 5, you can do:\n",
        "import numpy as np\n",
        "arr = np.array([1, 2, 3])\n",
        "result = arr + 5\n",
        "\n",
        "print(result)\n",
        "\n",
        "\n",
        "# Broadcasting:\n",
        "           # Concept: Broadcasting allows NumPy to perform operations on arrays of different shapes by automatically expanding the smaller array to match the larger one’s shape.\n",
        "\n",
        "# Example:\n",
        "arr = np.array([[1, 2], [3, 4]])\n",
        "result = arr + 10\n",
        "print(result)\n",
        "\n",
        "\n",
        "import numpy as np\n",
        "\n",
        "\n",
        "arr_2d = np.array([[1, 2, 3], [4, 5, 6]])\n",
        "arr_1d = np.array([10, 20, 30])\n",
        "print(arr_2d)\n",
        "\n",
        "print(arr_1d)\n",
        "result = arr_2d * arr_1d\n",
        "print(result)"
      ],
      "metadata": {
        "colab": {
          "base_uri": "https://localhost:8080/"
        },
        "id": "PWZONMsA1Y-7",
        "outputId": "a50b831a-14df-4976-e482-9c76a376dd35"
      },
      "execution_count": 7,
      "outputs": [
        {
          "output_type": "stream",
          "name": "stdout",
          "text": [
            "[6 7 8]\n",
            "[[11 12]\n",
            " [13 14]]\n",
            "[[1 2 3]\n",
            " [4 5 6]]\n",
            "[10 20 30]\n",
            "[[ 10  40  90]\n",
            " [ 40 100 180]]\n"
          ]
        }
      ]
    },
    {
      "cell_type": "markdown",
      "source": [
        "### Practical Questions"
      ],
      "metadata": {
        "id": "JL8kEnOW1vyE"
      }
    },
    {
      "cell_type": "code",
      "source": [
        "#Q1. Create a 3x3 NumPy array with random integers between 1 and 100. Then, interchange its rows and columns.\n",
        "#Ans\n",
        "import numpy as np\n",
        "\n",
        "# Create a 3x3 array with random integers between 1 and 100\n",
        "arr = np.random.randint(1, 100, size=(3, 3))\n",
        "print(\"Original Array:\")\n",
        "print(arr)\n",
        "print(\"Interchange array:\")\n",
        "\n",
        "print(arr.T)"
      ],
      "metadata": {
        "colab": {
          "base_uri": "https://localhost:8080/"
        },
        "id": "ODMB_u2a153K",
        "outputId": "fb68d579-1ca0-415d-cdca-6e06203d420b"
      },
      "execution_count": 10,
      "outputs": [
        {
          "output_type": "stream",
          "name": "stdout",
          "text": [
            "Original Array:\n",
            "[[56 87 31]\n",
            " [19 62 91]\n",
            " [72 56  9]]\n",
            "Interchange array:\n",
            "[[56 19 72]\n",
            " [87 62 56]\n",
            " [31 91  9]]\n"
          ]
        }
      ]
    },
    {
      "cell_type": "code",
      "source": [
        "#Q2. Generate a 1D NumPy array with 10 elements. Reshape it into a 2x5 array, then into a 5x2 array.\n",
        "#Ansimport numpy as np\n",
        "arr_1d = np.arange(10)\n",
        "print(\"Original 1D Array:\")\n",
        "print(arr_1d)\n",
        "\n",
        "# Reshape the 1D array into a 2x5 array\n",
        "arr_2x5 = arr_1d.reshape(2, 5)\n",
        "print(\"\\nReshaped into 2x5 Array:\")\n",
        "print(arr_2x5)\n",
        "\n",
        "\n",
        "# Reshape the 2x5 array into a 5x2 array\n",
        "arr_5x2 = arr_2x5.reshape(5, 2)\n",
        "print(\"\\nReshaped into 5x2 Array:\")\n",
        "print(arr_5x2)"
      ],
      "metadata": {
        "colab": {
          "base_uri": "https://localhost:8080/"
        },
        "id": "E-Bs992z2O6H",
        "outputId": "856465c5-7aeb-4fec-ec41-fb45f3e2285b"
      },
      "execution_count": 15,
      "outputs": [
        {
          "output_type": "stream",
          "name": "stdout",
          "text": [
            "Original 1D Array:\n",
            "[0 1 2 3 4 5 6 7 8 9]\n",
            "\n",
            "Reshaped into 2x5 Array:\n",
            "[[0 1 2 3 4]\n",
            " [5 6 7 8 9]]\n",
            "\n",
            "Reshaped into 5x2 Array:\n",
            "[[0 1]\n",
            " [2 3]\n",
            " [4 5]\n",
            " [6 7]\n",
            " [8 9]]\n"
          ]
        }
      ]
    },
    {
      "cell_type": "code",
      "source": [
        "#Q3. Create a 4x4 NumPy array with random float values. Add a border of zeros around it, resulting in a 6x6 array.\n",
        "#Ans\n",
        "# Create a 4x4 array with random float values\n",
        "arr_4x4 = np.random.rand(4, 4)\n",
        "\n",
        "arr_6x6 = np.pad(arr_4x4, pad_width=1, mode='constant', constant_values=0)\n",
        "\n",
        "print(arr_6x6)"
      ],
      "metadata": {
        "colab": {
          "base_uri": "https://localhost:8080/"
        },
        "id": "02tSUWly20pe",
        "outputId": "ba48d185-fbd4-49ee-afd6-61ec41ccca31"
      },
      "execution_count": 20,
      "outputs": [
        {
          "output_type": "stream",
          "name": "stdout",
          "text": [
            "[[0.         0.         0.         0.         0.         0.        ]\n",
            " [0.         0.52842992 0.4449159  0.81511636 0.37155423 0.        ]\n",
            " [0.         0.64542007 0.62825621 0.75889216 0.68937494 0.        ]\n",
            " [0.         0.92989424 0.28261721 0.7934721  0.63010408 0.        ]\n",
            " [0.         0.51490574 0.18185589 0.74758052 0.0435626  0.        ]\n",
            " [0.         0.         0.         0.         0.         0.        ]]\n"
          ]
        }
      ]
    },
    {
      "cell_type": "code",
      "source": [
        "#Q4. Using NumPy, create an array of integers from 10 to 60 with a step of 5.\n",
        "\n",
        "#Ans\n",
        "arr = np.arange(10, 65, 5)\n",
        "print(arr)\n",
        "\n"
      ],
      "metadata": {
        "colab": {
          "base_uri": "https://localhost:8080/"
        },
        "id": "rLoC_2vN3se2",
        "outputId": "5f7e58ee-624f-4189-87e9-345bceb13300"
      },
      "execution_count": 22,
      "outputs": [
        {
          "output_type": "stream",
          "name": "stdout",
          "text": [
            "[10 15 20 25 30 35 40 45 50 55 60]\n"
          ]
        }
      ]
    },
    {
      "cell_type": "code",
      "source": [
        "#Q5. Create a NumPy array of strings ['python', 'numpy', 'pandas']. Apply different case transformations (uppercase, lowercase, title case, etc.) to each element.\n",
        "#Ans\n",
        "arr = np.array(['python', 'numpy', 'pandas'])\n",
        "\n",
        "uppercase = np.char.upper(arr)\n",
        "lowercase = np.char.lower(arr)\n",
        "titlecase = np.char.title(arr)\n",
        "\n",
        "print(arr)\n",
        "print(uppercase)\n",
        "print(lowercase)\n",
        "print(titlecase)"
      ],
      "metadata": {
        "colab": {
          "base_uri": "https://localhost:8080/"
        },
        "id": "GHJ_Okvi4QJD",
        "outputId": "4e548cc7-c6dd-4aa0-c9be-b399862e0d25"
      },
      "execution_count": 28,
      "outputs": [
        {
          "output_type": "stream",
          "name": "stdout",
          "text": [
            "['python' 'numpy' 'pandas']\n",
            "['PYTHON' 'NUMPY' 'PANDAS']\n",
            "['python' 'numpy' 'pandas']\n",
            "['Python' 'Numpy' 'Pandas']\n"
          ]
        }
      ]
    },
    {
      "cell_type": "code",
      "source": [
        "#Q6. Generate a NumPy array of words. Insert a space between each character of every word in the array.\n",
        "#Ans# Create a NumPy array of words\n",
        "words = np.array(['hello', 'world', 'numpy'])\n",
        "\n",
        "# Insert a space between each character of every word\n",
        "words_with_spaces = np.char.join(' ', words)\n",
        "\n",
        "print(words)\n",
        "print(words_with_spaces)"
      ],
      "metadata": {
        "colab": {
          "base_uri": "https://localhost:8080/"
        },
        "id": "2y1SBamC4VtE",
        "outputId": "dd23ed81-5b20-43b0-9ab4-c73fdb7c19a0"
      },
      "execution_count": 31,
      "outputs": [
        {
          "output_type": "stream",
          "name": "stdout",
          "text": [
            "['hello' 'world' 'numpy']\n",
            "['h e l l o' 'w o r l d' 'n u m p y']\n"
          ]
        }
      ]
    },
    {
      "cell_type": "code",
      "source": [
        "#Q7. Create two 2D NumPy arrays and perform element-wise addition, subtraction, multiplication, and division.\n",
        "#Ans Create two 2D NumPy arrays\n",
        "array1 = np.array([[1, 2, 3], [4, 5, 6]])\n",
        "array2 = np.array([[7, 8, 9], [10, 11, 12]])\n",
        "\n",
        "# Element-wise addition\n",
        "addition = array1 + array2\n",
        "print(addition)\n",
        "# Element-wise subtraction\n",
        "subtraction = array1 - array2\n",
        "print(subtraction)\n",
        "# Element-wise multiplication\n",
        "multiplication = array1 * array2\n",
        "print(multiplication)\n",
        "# Element-wise division\n",
        "division = array1 / array2\n",
        "print(division)"
      ],
      "metadata": {
        "colab": {
          "base_uri": "https://localhost:8080/"
        },
        "id": "FMfEnPWe40eX",
        "outputId": "a03005ff-2ef4-4a87-ecc8-a6bd05bb6cad"
      },
      "execution_count": 36,
      "outputs": [
        {
          "output_type": "stream",
          "name": "stdout",
          "text": [
            "[[ 8 10 12]\n",
            " [14 16 18]]\n",
            "[[-6 -6 -6]\n",
            " [-6 -6 -6]]\n",
            "[[ 7 16 27]\n",
            " [40 55 72]]\n",
            "[[0.14285714 0.25       0.33333333]\n",
            " [0.4        0.45454545 0.5       ]]\n"
          ]
        }
      ]
    },
    {
      "cell_type": "code",
      "source": [
        "#Q8. Use NumPy to create a 5x5 identity matrix, then extract its diagonal elements\n",
        "#Ans\n",
        "identity_matrix = np.eye(5)\n",
        "print(identity_matrix)\n",
        "print(\"_-_-_-_-_-_-_-_-_-\")\n",
        "diagonal_elements = np.diag(identity_matrix)\n",
        "print(diagonal_elements)"
      ],
      "metadata": {
        "colab": {
          "base_uri": "https://localhost:8080/"
        },
        "id": "CCMmeGyo5DRT",
        "outputId": "0de0c036-0301-4d5f-a809-93743c7a6695"
      },
      "execution_count": 42,
      "outputs": [
        {
          "output_type": "stream",
          "name": "stdout",
          "text": [
            "[[1. 0. 0. 0. 0.]\n",
            " [0. 1. 0. 0. 0.]\n",
            " [0. 0. 1. 0. 0.]\n",
            " [0. 0. 0. 1. 0.]\n",
            " [0. 0. 0. 0. 1.]]\n",
            "_-_-_-_-_-_-_-_-_-\n",
            "[1. 1. 1. 1. 1.]\n"
          ]
        }
      ]
    },
    {
      "cell_type": "code",
      "source": [
        "#Q9. Generate a NumPy array of 100 random integers between 0 and 1000. Find and display all prime numbers in this array.\n",
        "#Ans\n",
        "# Generate an array of 100 random integers between 0 and 1000\n",
        "random_integers = np.random.randint(0, 1000, size=100)\n",
        "\n",
        "# Function to check for prime numbers\n",
        "def is_prime(n):\n",
        "    if n <= 1:\n",
        "        return False\n",
        "    for i in range(2, int(n**0.5) + 1):\n",
        "        if n % i == 0:\n",
        "            return False\n",
        "    return True\n",
        "\n",
        "# Find all prime numbers in the array\n",
        "prime_numbers = [num for num in random_integers if is_prime(num)]\n",
        "\n",
        "# Display the results\n",
        "print(\"Random Integers Array:\", random_integers)\n",
        "print(\"Prime Numbers in the Array:\", prime_numbers)"
      ],
      "metadata": {
        "colab": {
          "base_uri": "https://localhost:8080/"
        },
        "id": "PUf5Zg-06AeQ",
        "outputId": "913cb577-d350-404a-bcd6-01b4afb519ae"
      },
      "execution_count": 53,
      "outputs": [
        {
          "output_type": "stream",
          "name": "stdout",
          "text": [
            "Random Integers Array: [699 118 995 915 762  26 103 188 228 999 774 454 466 995 862 308 160 885\n",
            " 116 158 246 672  71 622  58 384 728 892 226  59 157 234 189 136 477 683\n",
            " 389 168 994 478 138 522 666 854 822  44 204 222  68   5 442 153 523 601\n",
            " 216 854 288 782 309 808  92 643   4  69  18 609 278 238 965 553 825 709\n",
            "  52 256 179 423 155 424 864 346 397 196 856 714 450 760 213 720 532 603\n",
            " 881 708  60 813 776 249 297 307 112 294]\n",
            "Prime Numbers in the Array: [103, 71, 59, 157, 683, 389, 5, 523, 601, 643, 709, 179, 397, 881, 307]\n"
          ]
        }
      ]
    },
    {
      "cell_type": "code",
      "source": [
        "#Q10. Create a NumPy array representing daily temperatures for a month. Calculate and display the weekly averages.\n",
        "#Ans\n",
        "# Generate a NumPy array of daily temperatures for a month (30 days)\n",
        "daily_temperatures = np.random.uniform(low=-10, high=35, size=28)\n",
        "\n",
        "\n",
        "weekly_temperatures = daily_temperatures.reshape(4, 7)\n",
        "\n",
        "\n",
        "weekly_averages = np.mean(weekly_temperatures, axis=1)\n",
        "\n",
        "print(\"Daily Temperatures:\")\n",
        "print(daily_temperatures)\n",
        "\n",
        "print(\"\\nWeekly Temperatures:\")\n",
        "print(weekly_temperatures)\n",
        "\n",
        "print(\"\\nWeekly Averages:\")\n",
        "print(weekly_averages)"
      ],
      "metadata": {
        "colab": {
          "base_uri": "https://localhost:8080/"
        },
        "id": "vJ2comAX6gsZ",
        "outputId": "2fb396fa-bc96-43d9-cdbb-64017de949ee"
      },
      "execution_count": 64,
      "outputs": [
        {
          "output_type": "stream",
          "name": "stdout",
          "text": [
            "Daily Temperatures:\n",
            "[-9.99136041 22.50133149 -9.45535647 34.11540279 32.68080779 16.81064402\n",
            " 13.77968834 15.31694643 -7.26541026  4.23354576 32.0107473  24.75943251\n",
            " -7.35933189 18.9842101  27.13525415 -7.41404298 24.67148007  2.76453445\n",
            "  0.19739507 -8.98591724  3.49012054 19.22966095  6.44492585 10.36983366\n",
            " 20.02625376  1.1500815  -0.88450098 26.64479751]\n",
            "\n",
            "Weekly Temperatures:\n",
            "[[-9.99136041 22.50133149 -9.45535647 34.11540279 32.68080779 16.81064402\n",
            "  13.77968834]\n",
            " [15.31694643 -7.26541026  4.23354576 32.0107473  24.75943251 -7.35933189\n",
            "  18.9842101 ]\n",
            " [27.13525415 -7.41404298 24.67148007  2.76453445  0.19739507 -8.98591724\n",
            "   3.49012054]\n",
            " [19.22966095  6.44492585 10.36983366 20.02625376  1.1500815  -0.88450098\n",
            "  26.64479751]]\n",
            "\n",
            "Weekly Averages:\n",
            "[14.34873679 11.52573428  5.97983201 11.85443604]\n"
          ]
        }
      ]
    },
    {
      "cell_type": "code",
      "source": [],
      "metadata": {
        "id": "KhSsiP4f7vo_"
      },
      "execution_count": null,
      "outputs": []
    }
  ]
}